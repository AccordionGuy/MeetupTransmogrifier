{
 "cells": [
  {
   "cell_type": "markdown",
   "metadata": {},
   "source": [
    "# Open Meetup category pages for specific date"
   ]
  },
  {
   "cell_type": "code",
   "execution_count": null,
   "metadata": {},
   "outputs": [],
   "source": [
    "from datetime import datetime\n",
    "import webbrowser \n",
    "\n",
    "input_date = input(\"Enter date (use the yyyy-mm-dd format): \").strip()\n",
    "date = datetime.strptime(input_date, '%Y-%m-%d')\n",
    "\n",
    "BASE_URL = \"https://www.meetup.com/find/us--fl--tampa\"\n",
    "CATEGORIES = [\n",
    "    'tech',\n",
    "    'education',\n",
    "    'writing',\n",
    "    'games-sci-fi',\n",
    "    'book-clubs',\n",
    "    'hobbies-crafts',\n",
    "    'career-business'\n",
    "]\n",
    "url_date = f\"{date.year}-{date.month:02d}-{date.day:02d}\"\n",
    "start_date_parameter = f\"customStartDate={url_date}T00%3A00-05%3A00\"\n",
    "end_date_parameter = f\"customEndDate={url_date}T23%3A59-05%3A00\"\n",
    "parameters = f\"{start_date_parameter}&{end_date_parameter}&distance=hundredMiles\"\n",
    "\n",
    "for category in CATEGORIES:\n",
    "    url = f\"{BASE_URL}/{category}/?{parameters}\"\n",
    "    webbrowser.open_new_tab(url)"
   ]
  },
  {
   "cell_type": "markdown",
   "metadata": {},
   "source": [
    "# Convert Meetup page URLs into an unordered HTML list"
   ]
  },
  {
   "cell_type": "code",
   "execution_count": null,
   "metadata": {},
   "outputs": [],
   "source": [
    "from bs4 import BeautifulSoup\n",
    "import requests\n",
    "\n",
    "def get_meetup_info(url):\n",
    "    page = requests.get(url)\n",
    "    soup = BeautifulSoup(page.content, \"html.parser\")\n",
    "    \n",
    "    try:\n",
    "        group_name = soup.find_all(\"div\", class_=\"event-group-name\")[0].get_text()\n",
    "        event_name = soup.find_all(\"h1\", class_=\"pageHead-headline\")[0].get_text()\n",
    "        start_time = soup.find_all(\"span\", class_=\"eventTimeDisplay-startDate-time\")[0].get_text()\n",
    "        end_time = soup.find_all(\"span\", class_=\"eventTimeDisplay-endDate-partialTime\")[0].get_text()\n",
    "        timestamp = soup.find_all(\"time\", class_=\"\")[0]['datetime']\n",
    "        print(f\"Processed “{group_name} — {event_name}”.\")\n",
    "    except:\n",
    "        print(f\"Error processing {url}. Opening browser so you can see what’s up...\")\n",
    "        webbrowser.open_new_tab(url)\n",
    "        exit()\n",
    "        \n",
    "    return {\n",
    "        \"text\": f\"<li><a href=\\\"{url}\\\">{group_name} — {event_name} @ {start_time} to {end_time}</a></li>\",\n",
    "        \"timestamp\": timestamp\n",
    "    }\n",
    "\n",
    "def urls_to_sorted_objects(urls):\n",
    "    meetup_objects = [get_meetup_info(url) for url in urls]\n",
    "    return sorted(meetup_objects, key=lambda item: item[\"timestamp\"])\n",
    "\n",
    "def print_list(urls):\n",
    "    unique_meetup_urls = list(set(urls))\n",
    "    meetup_objects = urls_to_sorted_objects(unique_meetup_urls)\n",
    "    print(\"\\n\\n\")\n",
    "    for meetup_object in meetup_objects:\n",
    "        print(meetup_object[\"text\"])"
   ]
  },
  {
   "cell_type": "code",
   "execution_count": null,
   "metadata": {},
   "outputs": [],
   "source": [
    "print_list([\n",
    "    // Insert URLs here\n",
    "])"
   ]
  }
 ],
 "metadata": {
  "kernelspec": {
   "display_name": "Python 3",
   "language": "python",
   "name": "python3"
  },
  "language_info": {
   "codemirror_mode": {
    "name": "ipython",
    "version": 3
   },
   "file_extension": ".py",
   "mimetype": "text/x-python",
   "name": "python",
   "nbconvert_exporter": "python",
   "pygments_lexer": "ipython3",
   "version": "3.8.5"
  }
 },
 "nbformat": 4,
 "nbformat_minor": 4
}
