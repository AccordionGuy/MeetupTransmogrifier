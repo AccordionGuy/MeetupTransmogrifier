{
 "cells": [
  {
   "cell_type": "markdown",
   "metadata": {},
   "source": [
    "# Open Meetup category pages for specific date"
   ]
  },
  {
   "cell_type": "code",
   "execution_count": 12,
   "metadata": {},
   "outputs": [
    {
     "data": {
      "application/vnd.jupyter.widget-view+json": {
       "model_id": "1300b7c6d84f4bad9f4123bc7e47b19c",
       "version_major": 2,
       "version_minor": 0
      },
      "text/plain": [
       "DatePicker(value=None, description='Pick a Date')"
      ]
     },
     "metadata": {},
     "output_type": "display_data"
    },
    {
     "data": {
      "application/vnd.jupyter.widget-view+json": {
       "model_id": "1f4d013d8359490c8fc9896833aa9be7",
       "version_major": 2,
       "version_minor": 0
      },
      "text/plain": [
       "Button(description='Open Meetup Pages', style=ButtonStyle())"
      ]
     },
     "metadata": {},
     "output_type": "display_data"
    }
   ],
   "source": [
    "#from datetime import datetime\n",
    "import webbrowser \n",
    "\n",
    "import ipywidgets as widgets\n",
    "from ipywidgets import Layout\n",
    "from IPython.display import display\n",
    "\n",
    "\n",
    "def open_meetup_pages():\n",
    "    date = date_picker.value\n",
    "    \n",
    "    BASE_URL = 'https://www.meetup.com/find'\n",
    "    CATEGORIES = [\n",
    "        '546', # Technology\n",
    "        '405', # Career & Business\n",
    "        '604', # Community & Environment\n",
    "        '535', # Games\n",
    "        '571', # Hobbies & Passions\n",
    "        '436', # Science & Educations\n",
    "        '652', # Social Activities\n",
    "        '467', # Writing\n",
    "    ]\n",
    "    url_date = f'{date.year}-{date.month:02d}-{date.day:02d}'\n",
    "    start_date_parameter = f'customStartDate={url_date}T00%3A00-05%3A00'\n",
    "    end_date_parameter = f'customEndDate={url_date}T23%3A59-05%3A00'\n",
    "    parameters = f'source=EVENTS&{start_date_parameter}&{end_date_parameter}&distance=hundredMiles'\n",
    "\n",
    "    for category in CATEGORIES:\n",
    "        url = f'{BASE_URL}/?{parameters}&categoryId={category}'\n",
    "        webbrowser.open_new_tab(url)\n",
    "        \n",
    "def open_eventbrite_pages():\n",
    "    date = date_picker.value\n",
    "    \n",
    "    BASE_URL = 'https://www.eventbrite.com/d/fl--tampa'\n",
    "    CATEGORIES = [\n",
    "        'science-and-tech--events', \n",
    "        'business--events', \n",
    "    ]\n",
    "    \n",
    "    for category in CATEGORIES:\n",
    "        url = f'{BASE_URL}/{category}/?start_date={date}&end_date={date}&page=1'\n",
    "        webbrowser.open_new_tab(url)\n",
    "        \n",
    "def open_pages(sender):\n",
    "    open_eventbrite_pages()\n",
    "    open_meetup_pages()\n",
    "    \n",
    "\n",
    "date_picker = widgets.DatePicker(\n",
    "    description='Pick a Date',\n",
    "    disabled=False\n",
    ")\n",
    "display(date_picker)\n",
    "    \n",
    "\n",
    "button = widgets.Button(description=\"Open Meetup Pages\")\n",
    "display(button)\n",
    "button.on_click(open_pages)"
   ]
  },
  {
   "cell_type": "markdown",
   "metadata": {},
   "source": [
    "# Convert Meetup page URLs into an unordered HTML list"
   ]
  },
  {
   "cell_type": "code",
   "execution_count": 13,
   "metadata": {
    "scrolled": true
   },
   "outputs": [
    {
     "data": {
      "application/vnd.jupyter.widget-view+json": {
       "model_id": "e634c17435514705af8b94926d262a59",
       "version_major": 2,
       "version_minor": 0
      },
      "text/plain": [
       "Textarea(value='', description='URLs:', layout=Layout(width='80%'), placeholder='Enter one URL per line')"
      ]
     },
     "metadata": {},
     "output_type": "display_data"
    },
    {
     "data": {
      "application/vnd.jupyter.widget-view+json": {
       "model_id": "43784416efba4a2db5ad621d843f0068",
       "version_major": 2,
       "version_minor": 0
      },
      "text/plain": [
       "Button(description='Create list', style=ButtonStyle())"
      ]
     },
     "metadata": {},
     "output_type": "display_data"
    }
   ],
   "source": [
    "import webbrowser \n",
    "\n",
    "from bs4 import BeautifulSoup\n",
    "import requests\n",
    "\n",
    "import time\n",
    "import ciso8601\n",
    "\n",
    "def get_info(url):\n",
    "    page = requests.get(url)\n",
    "    soup = BeautifulSoup(page.content, 'html.parser')\n",
    "    \n",
    "    try:\n",
    "        if 'https://www.meetup.com/' in url:\n",
    "            group_name = soup.find('div', class_='event-group-name').get_text().strip()\n",
    "            event_name = soup.find('h1', class_='pageHead-headline').get_text().strip()\n",
    "            time = soup.find('span', class_='eventTimeDisplay-startDate-time').get_text().strip()\n",
    "            timestamp = soup.find('time', class_='')['datetime'].strip()\n",
    "        elif 'https://www.eventbrite.' in url:\n",
    "            group_name = soup.find(\"a\", class_=\"listing-organizer-name\").get_text().strip()[3:]\n",
    "            event_name = soup.find(\"h1\", class_=\"listing-hero-title\").get_text().strip()\n",
    "            time = soup.find(\"p\", class_=\"js-date-time-second-line\").get_text().strip().replace(\"–\", \"to\", 1)\n",
    "            raw_timestamp = soup.find(\"meta\", property=\"event:start_time\")['content'].strip()\n",
    "            timestamp = timestamp_from_eventbrite_time(raw_timestamp)\n",
    "        print(f\"Processed “{timestamp} : {group_name} — {event_name}”.\")\n",
    "    except:\n",
    "        print(f\"Error processing this event:\")\n",
    "        print(f\"URL: {url}\")\n",
    "        webbrowser.open_new_tab(url)\n",
    "        return None\n",
    "        \n",
    "    return {\n",
    "        'url': url,\n",
    "        'group_name': group_name,\n",
    "        'event_name': event_name,\n",
    "        'time': time,\n",
    "        'timestamp': timestamp,\n",
    "#        'text': f\"<tr><td>{group_name}</td><td><strong><a href=\\\"{url}\\\">{event_name}</a></strong></td><td>{start_time} to {end_time}</td></tr>\",\n",
    "#        'timestamp': timestamp\n",
    "    }\n",
    "\n",
    "def timestamp_from_eventbrite_time(eventbrite_time):\n",
    "    import datetime\n",
    "    start_time = datetime.datetime.fromisoformat(eventbrite_time)\n",
    "    return str(datetime.datetime.timestamp(start_time))\n",
    "\n",
    "def urls_to_sorted_objects(urls):\n",
    "    meetup_objects = [get_info(url) for url in urls]\n",
    "    meetup_objects_without_nones = [meetup_object for meetup_object in meetup_objects if meetup_object]\n",
    "    return sorted(meetup_objects_without_nones, key=lambda item: item[\"timestamp\"])\n",
    "\n",
    "def print_schedules(urls):\n",
    "    table_schedule = \"<table>\"\n",
    "    list_schedule = \"<ul>\"\n",
    "    unique_meetup_urls = list(set(urls))\n",
    "    meetup_objects = urls_to_sorted_objects(unique_meetup_urls)\n",
    "\n",
    "    for meetup_object in meetup_objects:\n",
    "        if meetup_object is None:\n",
    "            pass\n",
    "        else:\n",
    "            table_schedule += f\"<tr><td>{meetup_object['group_name']}</td><td><strong><a href=\\\"{meetup_object['url']}\\\">{meetup_object['event_name']}</a></strong></td><td>{meetup_object['time']}</td></tr>\"\n",
    "            list_schedule += f\"<li><a href=\\\"{meetup_object['url']}\\\">{meetup_object['group_name']} — <strong>{meetup_object['event_name']}</strong> @ {meetup_object['time']}</a></li>\"\n",
    "\n",
    "    table_schedule += \"</table>\"\n",
    "    list_schedule += \"</ul>\"\n",
    "    \n",
    "    print(\"\\n\\n=== Blog ===\")\n",
    "    print(table_schedule)\n",
    "    print(\"\\n\\n=== Mail ===\")\n",
    "    print(list_schedule)\n",
    "    \n",
    "def create_list(sender):\n",
    "    urls = text_area.value.splitlines()\n",
    "    print_schedules(urls)\n",
    "        \n",
    "        \n",
    "text_area = widgets.Textarea(\n",
    "    value='',\n",
    "    placeholder='Enter one URL per line',\n",
    "    description='URLs:',\n",
    "    disabled=False,\n",
    "    layout=Layout(width='80%')\n",
    ")\n",
    "display(text_area)\n",
    "\n",
    "create_list_button = widgets.Button(description=\"Create list\")\n",
    "create_list_button.on_click(create_list)\n",
    "display(create_list_button)\n"
   ]
  },
  {
   "cell_type": "markdown",
   "metadata": {},
   "source": [
    "## End-of-article boilerplate"
   ]
  },
  {
   "cell_type": "markdown",
   "metadata": {},
   "source": [
    "```\n",
    "<h2>Do you have any events or announcements that you’d like to see on this list?</h2>\n",
    "Let me know at <a href=\"mailto:joey@joeydevilla.com\">joey@joeydevilla.com</a>!\n",
    "<h2>Join the mailing list!</h2>\n",
    "<a href=\"https://www.globalnerdy.com/the-tampa-bay-tech-entrepreneur-and-nerd-events-mailing-list/\"><img class=\"aligncenter size-full wp-image-27643\" src=\"https://www.globalnerdy.com/wp-content/uploads/2019/11/tampa-bay-tech-entrepreneur-and-nerd-events-mailing-list.jpg\" alt=\"\" width=\"600\" height=\"497\" /></a>\n",
    "\n",
    "If you’d like to get this list in your email inbox every week, enter your email address below. You’ll only be emailed once a week, and the email will contain this list, plus links to any interesting news, upcoming events, and tech articles.\n",
    "\n",
    "<strong>Join the <em>Tampa Bay Tech Events</em> list and always be informed of what’s coming up in Tampa Bay!</strong>\n",
    "\n",
    "<!-- Begin Mailchimp Signup Form -->\n",
    "\n",
    "<style type=\"text/css\">\n",
    "\t#mc_embed_signup{background:#fff; clear:left; font:14px Helvetica,Arial,sans-serif; }<br />\t/* Add your own Mailchimp form style overrides in your site stylesheet or in this style block.<br />\t   We recommend moving this block and the preceding CSS link to the HEAD of your HTML file. */<br /></style>\n",
    "<div id=\"mc_embed_signup\"><form id=\"mc-embedded-subscribe-form\" class=\"validate\" action=\"https://joeydevilla.us4.list-manage.com/subscribe/post?u=ccfd4724bcc162e7d7da5b9db&amp;id=b1386ff865\" method=\"post\" name=\"mc-embedded-subscribe-form\" novalidate=\"\" target=\"_blank\">\n",
    "<div id=\"mc_embed_signup_scroll\">\n",
    "\n",
    "<input id=\"mce-EMAIL\" class=\"email\" name=\"EMAIL\" required=\"\" type=\"email\" value=\"\" placeholder=\"email address\" />\n",
    "<!-- real people should not fill this in and expect good things - do not remove this or risk form bot signups-->\n",
    "<div style=\"position: absolute; left: -5000px;\" aria-hidden=\"true\"><input tabindex=\"-1\" name=\"b_ccfd4724bcc162e7d7da5b9db_b1386ff865\" type=\"text\" value=\"\" /></div>\n",
    "<div class=\"clear\"><input id=\"mc-embedded-subscribe\" class=\"button\" name=\"subscribe\" type=\"submit\" value=\"Subscribe\" /></div>\n",
    "</div>\n",
    "</form></div>\n",
    "```"
   ]
  }
 ],
 "metadata": {
  "kernelspec": {
   "display_name": "Python 3",
   "language": "python",
   "name": "python3"
  },
  "language_info": {
   "codemirror_mode": {
    "name": "ipython",
    "version": 3
   },
   "file_extension": ".py",
   "mimetype": "text/x-python",
   "name": "python",
   "nbconvert_exporter": "python",
   "pygments_lexer": "ipython3",
   "version": "3.8.5"
  }
 },
 "nbformat": 4,
 "nbformat_minor": 4
}
